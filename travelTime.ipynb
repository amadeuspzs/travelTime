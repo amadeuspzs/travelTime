{
 "cells": [
  {
   "cell_type": "markdown",
   "metadata": {},
   "source": [
    "# travelTime\n",
    "\n",
    "Source realtime travel data from Google Maps"
   ]
  },
  {
   "cell_type": "code",
   "execution_count": 3,
   "metadata": {
    "collapsed": true
   },
   "outputs": [],
   "source": [
    "import urllib, json, time"
   ]
  },
  {
   "cell_type": "markdown",
   "metadata": {},
   "source": [
    "Enter your [Google Maps Directions API](https://developers.google.com/maps/documentation/directions/) key below:"
   ]
  },
  {
   "cell_type": "code",
   "execution_count": 5,
   "metadata": {},
   "outputs": [],
   "source": [
    "apiKey=\"\"\n",
    "if not apiKey:\n",
    "    print \"Enter your API key for traffic data!\"\n",
    "    exit(1)"
   ]
  },
  {
   "cell_type": "markdown",
   "metadata": {},
   "source": [
    "Enter your origin and destination:"
   ]
  },
  {
   "cell_type": "code",
   "execution_count": 6,
   "metadata": {
    "collapsed": true
   },
   "outputs": [],
   "source": [
    "origin=\"Empire State Building, NY\"\n",
    "destination=\"One World Trade Center, NY\""
   ]
  },
  {
   "cell_type": "markdown",
   "metadata": {},
   "source": [
    "Try to grab realtime traffic from Google:"
   ]
  },
  {
   "cell_type": "code",
   "execution_count": 7,
   "metadata": {},
   "outputs": [],
   "source": [
    "params = urllib.urlencode(\n",
    "    {'origin': origin, \n",
    "     'destination': destination, \n",
    "     'mode': 'driving', \n",
    "     'key': apiKey, \n",
    "     'departure_time':'now'})\n",
    "\n",
    "url = \"https://maps.googleapis.com/maps/api/directions/json?%s\" % params\n",
    "\n",
    "timestamp = int(time.time()) # capture when the request is made\n",
    "\n",
    "try:\n",
    "    response = urllib.urlopen(url)\n",
    "except IOError, e:\n",
    "    print e\n",
    "\n",
    "if response.getcode() == 200:\n",
    "    data = json.loads(response.read())\n",
    "else:\n",
    "    print \"Error %s\" % response.getcode()\n",
    "    exit(1)"
   ]
  },
  {
   "cell_type": "markdown",
   "metadata": {},
   "source": [
    "Process response data"
   ]
  },
  {
   "cell_type": "code",
   "execution_count": 9,
   "metadata": {},
   "outputs": [],
   "source": [
    "if 'error_message' in data:\n",
    "    print data['error_message']\n",
    "    exit(1)"
   ]
  },
  {
   "cell_type": "code",
   "execution_count": 10,
   "metadata": {},
   "outputs": [
    {
     "name": "stdout",
     "output_type": "stream",
     "text": [
      "1499099472,1042\n"
     ]
    }
   ],
   "source": [
    "if not 'routes' in data or len(data['routes']) < 1:\n",
    "    print \"Route data not returned. Check locations?\"\n",
    "    exit(1)\n",
    "elif 'duration_in_traffic' in data['routes'][0]['legs'][0]:\n",
    "    print \"%s,%s\" % (timestamp, data['routes'][0]['legs'][0]['duration_in_traffic']['value'])\n",
    "else:\n",
    "    print \"Traffic data not returned\"\n",
    "    exit(1)"
   ]
  },
  {
   "cell_type": "markdown",
   "metadata": {},
   "source": [
    "This has now output data in CSV format. Over to you to store, or see CLI version at "
   ]
  }
 ],
 "metadata": {
  "kernelspec": {
   "display_name": "Python 2",
   "language": "python",
   "name": "python2"
  },
  "language_info": {
   "codemirror_mode": {
    "name": "ipython",
    "version": 2
   },
   "file_extension": ".py",
   "mimetype": "text/x-python",
   "name": "python",
   "nbconvert_exporter": "python",
   "pygments_lexer": "ipython2",
   "version": "2.7.13rc1"
  }
 },
 "nbformat": 4,
 "nbformat_minor": 2
}
